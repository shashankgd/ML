{
  "nbformat": 4,
  "nbformat_minor": 0,
  "metadata": {
    "colab": {
      "name": "3distomatch.ipynb",
      "provenance": [],
      "collapsed_sections": [],
      "authorship_tag": "ABX9TyPFJ6uhGAU1pIU8pNZnMeVb",
      "include_colab_link": true
    },
    "kernelspec": {
      "name": "python3",
      "display_name": "Python 3"
    }
  },
  "cells": [
    {
      "cell_type": "markdown",
      "metadata": {
        "id": "view-in-github",
        "colab_type": "text"
      },
      "source": [
        "<a href=\"https://colab.research.google.com/github/shashankgd/ML/blob/master/3distomatch.ipynb\" target=\"_parent\"><img src=\"https://colab.research.google.com/assets/colab-badge.svg\" alt=\"Open In Colab\"/></a>"
      ]
    },
    {
      "cell_type": "code",
      "metadata": {
        "id": "9XjpXmqrAsqL",
        "colab_type": "code",
        "outputId": "4f8a6bba-2e09-486e-af0a-d9d69abbda41",
        "colab": {
          "base_uri": "https://localhost:8080/",
          "height": 110
        }
      },
      "source": [
        "!pip install opencv-python==3.4.2.16\n",
        "!pip install opencv-contrib-python==3.4.2.16\n",
        "import cv2\n",
        "\n",
        "\n",
        "import os\n",
        "import numpy as np\n",
        "import argparse\n",
        "import imutils\n",
        "import glob\n",
        "from matplotlib import pylab as plt"
      ],
      "execution_count": 2,
      "outputs": [
        {
          "output_type": "stream",
          "text": [
            "Requirement already satisfied: opencv-python==3.4.2.16 in /usr/local/lib/python3.6/dist-packages (3.4.2.16)\n",
            "Requirement already satisfied: numpy>=1.11.3 in /usr/local/lib/python3.6/dist-packages (from opencv-python==3.4.2.16) (1.17.5)\n",
            "Requirement already satisfied: opencv-contrib-python==3.4.2.16 in /usr/local/lib/python3.6/dist-packages (3.4.2.16)\n",
            "Requirement already satisfied: numpy>=1.11.3 in /usr/local/lib/python3.6/dist-packages (from opencv-contrib-python==3.4.2.16) (1.17.5)\n"
          ],
          "name": "stdout"
        }
      ]
    },
    {
      "cell_type": "code",
      "metadata": {
        "id": "pc_kRwG0Fmlg",
        "colab_type": "code",
        "colab": {
          "base_uri": "https://localhost:8080/",
          "height": 35
        },
        "outputId": "614bc77f-8545-416f-df5a-3da23fa0b9c4"
      },
      "source": [
        "import cv2\n",
        "import os\n",
        "import numpy as np\n",
        "import argparse\n",
        "import imutils\n",
        "import glob\n",
        "from matplotlib import pylab as plt\n",
        "%matplotlib inline\n",
        "\n",
        "imgs=[]\n",
        "files = [f for f in os.listdir('.') if os.path.isfile(f)]\n",
        "print(files)\n",
        "\n",
        "def showimg(x):\n",
        "  plt.imshow(x)\n",
        "\n",
        "def show_rgb_equalized(image):\n",
        "    channels = cv2.split(image)\n",
        "    eq_channels = []\n",
        "    for ch, color in zip(channels, ['B', 'G', 'R']):\n",
        "        eq_channels.append(cv2.equalizeHist(ch))\n",
        "\n",
        "    eq_image = cv2.merge(eq_channels)\n",
        "    eq_image = cv2.cvtColor(eq_image, cv2.COLOR_BGR2RGB)\n",
        "    # plt.imshow(eq_image)\n",
        "    # plt.show()\n",
        "    return eq_image\n",
        "\n",
        "def show_hsv_equalized(image):\n",
        "    H, S, V = cv2.split(cv2.cvtColor(image, cv2.COLOR_BGR2HSV))\n",
        "    eq_V = cv2.equalizeHist(V)\n",
        "    eq_image = cv2.cvtColor(cv2.merge([H, S, eq_V]), cv2.COLOR_HSV2RGB)\n",
        "    # plt.imshow(eq_image)\n",
        "    # plt.show()\n",
        "    return eq_image\n",
        "\n",
        "\n",
        "#reading images in grayscale format\n",
        "image1 = cv2.imread('table1.jpg')\n",
        "image2 = cv2.imread('table3.jpg')\n",
        "image3 = cv2.imread('table6.jpg')\n",
        "image4 = cv2.imread('threshold1.jpg.jpg')\n",
        "image5 = cv2.imread('threshold2.jpg.jpg')\n",
        "image6 = cv2.imread('apple2.jpg')\n",
        "\n",
        "# for i in files:\n",
        "#   x = show_rgb_equalized(cv2.imread(i))\n",
        "#   y = show_hsv_equalized(cv2.imread(i))\n",
        "#   plt.imshow(x)\n",
        "#   plt.show()\n",
        "#   plt.imshow(y)\n",
        "#   plt.show()"
      ],
      "execution_count": 21,
      "outputs": [
        {
          "output_type": "stream",
          "text": [
            "['apple2.jpg', 'threshold1.jpg.jpg', 'table1.jpg']\n"
          ],
          "name": "stdout"
        }
      ]
    },
    {
      "cell_type": "code",
      "metadata": {
        "id": "lhz6W1aUYDs5",
        "colab_type": "code",
        "colab": {
          "base_uri": "https://localhost:8080/",
          "height": 35
        },
        "outputId": "2ed558a7-1289-41de-e324-269eb310ac89"
      },
      "source": [
        "\n",
        "# Calculate the histogram and normalize it\n",
        "hsv1 = show_hsv_equalized(cv2.imread('threshold1.jpg.jpg'))\n",
        "hsv2 = show_hsv_equalized(cv2.imread('table1.jpg'))\n",
        "\n",
        "hist_img1 = cv2.calcHist([hsv1], [0,1], None, [180,256], [0,180,0,256])\n",
        "cv2.normalize(hist_img1, hist_img1, alpha=0, beta=1, norm_type=cv2.NORM_MINMAX);\n",
        "hist_img2 = cv2.calcHist([hsv2], [0,1], None, [180,256], [0,180,0,256])\n",
        "cv2.normalize(hist_img2, hist_img2, alpha=0, beta=1, norm_type=cv2.NORM_MINMAX);\n",
        "\n",
        "# find the metric value\n",
        "metric_val = cv2.compareHist(hist_img1, hist_img2, cv2.HISTCMP_BHATTACHARYYA)\n",
        "metric_val = 100 * (1-metric_val)\n",
        "print(metric_val)"
      ],
      "execution_count": 56,
      "outputs": [
        {
          "output_type": "stream",
          "text": [
            "49.66266271429283\n"
          ],
          "name": "stdout"
        }
      ]
    }
  ]
}